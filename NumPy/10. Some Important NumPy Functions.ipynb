{
 "cells": [
  {
   "cell_type": "markdown",
   "id": "f00864be",
   "metadata": {},
   "source": [
    "### Some Important NumPy Functions"
   ]
  },
  {
   "cell_type": "code",
   "execution_count": 1,
   "id": "a860800e",
   "metadata": {},
   "outputs": [],
   "source": [
    "import numpy as np"
   ]
  },
  {
   "cell_type": "markdown",
   "id": "7db234f3",
   "metadata": {},
   "source": [
    "**Random Module**"
   ]
  },
  {
   "cell_type": "code",
   "execution_count": 46,
   "id": "54dc024a",
   "metadata": {
    "scrolled": true
   },
   "outputs": [
    {
     "data": {
      "text/plain": [
       "0.7203244934421581"
      ]
     },
     "execution_count": 46,
     "metadata": {},
     "output_type": "execute_result"
    }
   ],
   "source": [
    "np.random.random() # any random value between 0 and 1\n",
    "# This changes everytime we run it"
   ]
  },
  {
   "cell_type": "code",
   "execution_count": 47,
   "id": "92e4c0a7",
   "metadata": {},
   "outputs": [
    {
     "data": {
      "text/plain": [
       "0.417022004702574"
      ]
     },
     "execution_count": 47,
     "metadata": {},
     "output_type": "execute_result"
    }
   ],
   "source": [
    "# Setting a seed so that new random does not get generated on every run\n",
    "np.random.seed(1) # 1 is any constant\n",
    "np.random.random() # Now it will give the same number all the time"
   ]
  },
  {
   "cell_type": "code",
   "execution_count": 127,
   "id": "3954c475",
   "metadata": {},
   "outputs": [
    {
     "data": {
      "text/plain": [
       "39.49489258707071"
      ]
     },
     "execution_count": 127,
     "metadata": {},
     "output_type": "execute_result"
    }
   ],
   "source": [
    "#Single random number within a range\n",
    "np.random.uniform(30,40) "
   ]
  },
  {
   "cell_type": "code",
   "execution_count": 153,
   "id": "6e0f92a4",
   "metadata": {},
   "outputs": [
    {
     "data": {
      "text/plain": [
       "array([[36.69232893, 32.64919558, 30.66334834],\n",
       "       [33.70084198, 36.29717507, 32.1017401 ],\n",
       "       [37.52755554, 30.66536481, 32.60315099],\n",
       "       [38.04754564, 31.93434283, 36.39460881]])"
      ]
     },
     "execution_count": 153,
     "metadata": {},
     "output_type": "execute_result"
    }
   ],
   "source": [
    "# Number of random numbers within a range\n",
    "np.random.uniform(30,40,12).reshape(4,3) #Array of 10 random numbers within range (30,40)"
   ]
  },
  {
   "cell_type": "code",
   "execution_count": 163,
   "id": "872dc5cb",
   "metadata": {},
   "outputs": [
    {
     "data": {
      "text/plain": [
       "array([[30, 34, 37],\n",
       "       [33, 30, 31],\n",
       "       [36, 30, 36],\n",
       "       [31, 36, 34]])"
      ]
     },
     "execution_count": 163,
     "metadata": {},
     "output_type": "execute_result"
    }
   ],
   "source": [
    "#For integers within a range\n",
    "np.random.randint(30,40,12).reshape(4,3) # Same as above with just integers"
   ]
  },
  {
   "cell_type": "markdown",
   "id": "322a2f5d",
   "metadata": {},
   "source": [
    "**min, max, argmin, argmax**"
   ]
  },
  {
   "cell_type": "code",
   "execution_count": 168,
   "id": "eef5ee3d",
   "metadata": {},
   "outputs": [
    {
     "name": "stdout",
     "output_type": "stream",
     "text": [
      "[[ 4 88 27]\n",
      " [50 68  3]\n",
      " [58 12  2]\n",
      " [76 96 96]] \n",
      "\n",
      "96\n",
      "2\n",
      "10\n",
      "8\n"
     ]
    }
   ],
   "source": [
    "arr1 = np.random.randint(0,100,12).reshape(4,3)\n",
    "print(arr1, \"\\n\")\n",
    "\n",
    "print(np.max(arr1)) # Maximum\n",
    "print(np.min(arr1)) # Minimum\n",
    "print(np.argmax(arr1)) # Index of Maximum\n",
    "print(np.argmin(arr1)) # Index of Minimum"
   ]
  },
  {
   "cell_type": "code",
   "execution_count": 173,
   "id": "d34a08f9",
   "metadata": {},
   "outputs": [
    {
     "name": "stdout",
     "output_type": "stream",
     "text": [
      "[[27 51 77]\n",
      " [30 43 46]\n",
      " [ 9 67  3]\n",
      " [67 54 97]\n",
      " [63 99 80]]\n",
      "[[-1 -1 -1]\n",
      " [30 -1 46]\n",
      " [-1 -1 -1]\n",
      " [-1 54 -1]\n",
      " [-1 -1 80]]\n"
     ]
    }
   ],
   "source": [
    "# Example- Raplace all the odd digits by -1\n",
    "arr2 = np.random.randint(0,100,15).reshape(5,3)\n",
    "print(arr2)\n",
    "\n",
    "arr2[arr2%2!=0] = -1 # This replaces the original array\n",
    "print(arr2)"
   ]
  },
  {
   "cell_type": "markdown",
   "id": "8a97bbc8",
   "metadata": {},
   "source": [
    "**Where**"
   ]
  },
  {
   "cell_type": "code",
   "execution_count": 179,
   "id": "c6ec533a",
   "metadata": {
    "scrolled": true
   },
   "outputs": [
    {
     "name": "stdout",
     "output_type": "stream",
     "text": [
      "[[15 51 98]\n",
      " [86 45 63]\n",
      " [42 22 82]\n",
      " [40 44 16]\n",
      " [17 88  0]]\n",
      "[[-1 -1 98]\n",
      " [86 -1 -1]\n",
      " [42 22 82]\n",
      " [40 44 16]\n",
      " [-1 88  0]]\n",
      "[[15 51 98]\n",
      " [86 45 63]\n",
      " [42 22 82]\n",
      " [40 44 16]\n",
      " [17 88  0]]\n"
     ]
    }
   ],
   "source": [
    "#Example replace with -1 but create a new array\n",
    "arr2 = np.random.randint(0,100,15).reshape(5,3)\n",
    "print(arr2)\n",
    "\n",
    "out_arr = np.where(arr2%2!=0, -1, arr2) # parameter 1: condition, 2: replace with, 3: replace when condition fails\n",
    "\n",
    "print(out_arr)\n",
    "print(arr2) # Remains same"
   ]
  },
  {
   "cell_type": "markdown",
   "id": "8ed7b056",
   "metadata": {},
   "source": [
    "**Percentile (25, 50, 75)**"
   ]
  },
  {
   "cell_type": "code",
   "execution_count": 190,
   "id": "eb6f2562",
   "metadata": {},
   "outputs": [
    {
     "name": "stdout",
     "output_type": "stream",
     "text": [
      "[87 77 62 48  0 42 39  3 57 43 53 43 74 98 97 75 59 66 74 91  5 26 67 31\n",
      " 11  3 54  1 13 59 56 81  8 38  4 70 76 73  5 79 84 59 31 90  7 66 32 46\n",
      " 75 82 44 64 37 47 73 90 84 15 65 52 69 66 89 28 19 17  5 79 10 29 17 81\n",
      " 46  7 17 86 61 64  7 29 55 28 99 43 98 55  5 50 92 63 52 34 98 83 77 37\n",
      " 89 54  4 43] \n",
      "\n",
      "[ 0  1  3  3  4  4  5  5  5  5  7  7  7  8 10 11 13 15 17 17 17 19 26 28\n",
      " 28 29 29 31 31 32 34 37 37 38 39 42 43 43 43 43 44 46 46 47 48 50 52 52\n",
      " 53 54 54 55 55 56 57 59 59 59 61 62 63 64 64 65 66 66 66 67 69 70 73 73\n",
      " 74 74 75 75 76 77 77 79 79 81 81 82 83 84 84 86 87 89 89 90 90 91 92 97\n",
      " 98 98 98 99] \n",
      "\n",
      "25% of the values are below:  28.75 \n",
      "\n",
      "50% of the values are below:  54.0 \n",
      "\n",
      "75% of the values are below:  75.0 \n",
      "\n"
     ]
    }
   ],
   "source": [
    "arr3 = np.random.randint(0,100,100)\n",
    "print(arr3, \"\\n\")\n",
    "arr3 = np.sort(arr3) # First Sorting the Array\n",
    "print(arr3, \"\\n\")\n",
    "\n",
    "print(\"25% of the values are below: \", np.percentile(arr3,25), \"\\n\")\n",
    "print(\"50% of the values are below: \", np.percentile(arr3,50), \"\\n\")\n",
    "print(\"75% of the values are below: \", np.percentile(arr3,75), \"\\n\")"
   ]
  },
  {
   "cell_type": "code",
   "execution_count": null,
   "id": "1399c761",
   "metadata": {},
   "outputs": [],
   "source": []
  }
 ],
 "metadata": {
  "kernelspec": {
   "display_name": "Python 3 (ipykernel)",
   "language": "python",
   "name": "python3"
  },
  "language_info": {
   "codemirror_mode": {
    "name": "ipython",
    "version": 3
   },
   "file_extension": ".py",
   "mimetype": "text/x-python",
   "name": "python",
   "nbconvert_exporter": "python",
   "pygments_lexer": "ipython3",
   "version": "3.10.4"
  }
 },
 "nbformat": 4,
 "nbformat_minor": 5
}
