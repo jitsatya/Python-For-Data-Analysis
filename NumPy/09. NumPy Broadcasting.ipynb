{
 "cells": [
  {
   "cell_type": "markdown",
   "id": "61e3d109",
   "metadata": {},
   "source": [
    "### NumPy Broadcasting"
   ]
  },
  {
   "cell_type": "code",
   "execution_count": 1,
   "id": "971fc221",
   "metadata": {},
   "outputs": [],
   "source": [
    "import numpy as np"
   ]
  },
  {
   "cell_type": "code",
   "execution_count": 3,
   "id": "76929d15",
   "metadata": {},
   "outputs": [
    {
     "name": "stdout",
     "output_type": "stream",
     "text": [
      "[[0 1 2 3]\n",
      " [4 5 6 7]]\n",
      "[[ 8  9 10 11]\n",
      " [12 13 14 15]]\n"
     ]
    }
   ],
   "source": [
    "#Scenario 1\n",
    "a1 = np.arange(8).reshape(2,4)\n",
    "a2 = np.arange(8,16).reshape(2,4)\n",
    "\n",
    "print(a1)\n",
    "print(a2)"
   ]
  },
  {
   "cell_type": "code",
   "execution_count": 4,
   "id": "8094adea",
   "metadata": {},
   "outputs": [
    {
     "data": {
      "text/plain": [
       "array([[ 8, 10, 12, 14],\n",
       "       [16, 18, 20, 22]])"
      ]
     },
     "execution_count": 4,
     "metadata": {},
     "output_type": "execute_result"
    }
   ],
   "source": [
    "a1+a2"
   ]
  },
  {
   "cell_type": "code",
   "execution_count": 6,
   "id": "99851ee5",
   "metadata": {},
   "outputs": [
    {
     "name": "stdout",
     "output_type": "stream",
     "text": [
      "[[0 1 2]\n",
      " [3 4 5]\n",
      " [6 7 8]] [[0 1 2]]\n"
     ]
    }
   ],
   "source": [
    "# Scenario 2\n",
    "a3 = np.arange(9).reshape(3,3)\n",
    "a4 = np.arange(3).reshape(1,3)\n",
    "\n",
    "print(a3,a4)"
   ]
  },
  {
   "cell_type": "code",
   "execution_count": 7,
   "id": "ad9041ad",
   "metadata": {},
   "outputs": [
    {
     "data": {
      "text/plain": [
       "array([[ 0,  2,  4],\n",
       "       [ 3,  5,  7],\n",
       "       [ 6,  8, 10]])"
      ]
     },
     "execution_count": 7,
     "metadata": {},
     "output_type": "execute_result"
    }
   ],
   "source": [
    "a3+a4 # even though the shape is not same but numpy stills adds them\n",
    "# One row gets added to all three rows"
   ]
  },
  {
   "cell_type": "markdown",
   "id": "2a3d65ba",
   "metadata": {},
   "source": [
    "**Broadcasting** \n",
    "\n",
    "\n",
    "The term broadcasting refers to the ability of NumPy to treat arrays of different shapes during arithmatic operations. Arithmatic operations on arrays are usually done on corresponding elements. If arrays are exactly the same shape, then these operations are smoothly performed.\n",
    "\n",
    "If the dimentions of two arrays are dissimilar, element-to-element operations are not possible. However operations on arrays of non similar shapes is still possible in numpy, because of the broadcasting capability. The smaller array is broadcast to the size of the larger array so that they have compatible shape."
   ]
  },
  {
   "cell_type": "markdown",
   "id": "8ea758bd",
   "metadata": {},
   "source": [
    "**Rules of Broadcasting**"
   ]
  },
  {
   "cell_type": "code",
   "execution_count": 17,
   "id": "219f76c7",
   "metadata": {
    "scrolled": true
   },
   "outputs": [
    {
     "name": "stdout",
     "output_type": "stream",
     "text": [
      "[[0]\n",
      " [1]\n",
      " [2]] \t \n",
      "\n",
      " [[ 0  1  2  3]\n",
      " [ 4  5  6  7]\n",
      " [ 8  9 10 11]] \n",
      "\n",
      "[[ 0  1  2  3]\n",
      " [ 5  6  7  8]\n",
      " [10 11 12 13]]\n"
     ]
    }
   ],
   "source": [
    "# For Two arrays with shapes (x,y) and (a,b)\n",
    "# If x=a and y=b, Operation will take place normally- Scenario 1\n",
    "# If (x|y|a|b) = 1 and corresponding axis are same then also operation will take place by broadcasting - Scenatio 2\n",
    "\n",
    "# Scenario 3 same as 2\n",
    "a5 = np.arange(3).reshape(3,1)\n",
    "a6 = np.arange(12).reshape(3,4)\n",
    "\n",
    "print(a5, \"\\t\", \"\\n\\n\", a6, \"\\n\")\n",
    "\n",
    "print(a5+a6)"
   ]
  },
  {
   "cell_type": "code",
   "execution_count": 18,
   "id": "7aae567c",
   "metadata": {},
   "outputs": [
    {
     "name": "stdout",
     "output_type": "stream",
     "text": [
      "[[0 1 2]] \n",
      "\n",
      "[[0]\n",
      " [1]\n",
      " [2]] \n",
      "\n",
      "[[0 1 2]\n",
      " [1 2 3]\n",
      " [2 3 4]]\n"
     ]
    }
   ],
   "source": [
    "#If (x|y|a|b) = 1 and corresponding axis are not same then operation can not be performed using broadcasting\n",
    "# Shapes (1,3) and (3,4) Broadcasting Will not work\n",
    "\n",
    "#If x=b=1 and y=b the boroadcasting will work and the result will be of shape (y,b)\n",
    "#Scenario 4\n",
    "a6 = np.arange(3).reshape(1,3)\n",
    "a7 = np.arange(3).reshape(3,1)\n",
    "\n",
    "print(a6, \"\\n\")\n",
    "print(a7, \"\\n\")\n",
    "print(a6+a7)"
   ]
  },
  {
   "cell_type": "code",
   "execution_count": 19,
   "id": "067f0ce8",
   "metadata": {},
   "outputs": [
    {
     "name": "stdout",
     "output_type": "stream",
     "text": [
      "[3] \n",
      "\n",
      "[[ 0  1  2  3  4  5  6  7]\n",
      " [ 8  9 10 11 12 13 14 15]\n",
      " [16 17 18 19 20 21 22 23]\n",
      " [24 25 26 27 28 29 30 31]\n",
      " [32 33 34 35 36 37 38 39]\n",
      " [40 41 42 43 44 45 46 47]\n",
      " [48 49 50 51 52 53 54 55]] \n",
      "\n",
      "[[ 3  4  5  6  7  8  9 10]\n",
      " [11 12 13 14 15 16 17 18]\n",
      " [19 20 21 22 23 24 25 26]\n",
      " [27 28 29 30 31 32 33 34]\n",
      " [35 36 37 38 39 40 41 42]\n",
      " [43 44 45 46 47 48 49 50]\n",
      " [51 52 53 54 55 56 57 58]]\n"
     ]
    }
   ],
   "source": [
    "# If x=y=1 and a and b are any number then that one element will get boradcasted to the shape (a,b)\n",
    "# Basically they are of different dimentions\n",
    "#Scenario 5\n",
    "a8 = np.array([3])\n",
    "a9 = np.arange(56).reshape(7,8)\n",
    "\n",
    "print(a8, \"\\n\")\n",
    "print(a9, \"\\n\")\n",
    "\n",
    "print(a8+a9)"
   ]
  }
 ],
 "metadata": {
  "kernelspec": {
   "display_name": "Python 3 (ipykernel)",
   "language": "python",
   "name": "python3"
  },
  "language_info": {
   "codemirror_mode": {
    "name": "ipython",
    "version": 3
   },
   "file_extension": ".py",
   "mimetype": "text/x-python",
   "name": "python",
   "nbconvert_exporter": "python",
   "pygments_lexer": "ipython3",
   "version": "3.10.4"
  }
 },
 "nbformat": 4,
 "nbformat_minor": 5
}
