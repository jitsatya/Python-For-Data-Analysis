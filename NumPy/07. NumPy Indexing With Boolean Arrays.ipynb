{
 "cells": [
  {
   "cell_type": "markdown",
   "id": "320b4472",
   "metadata": {},
   "source": [
    "### Indexing with Boolean Arrays Numpy"
   ]
  },
  {
   "cell_type": "code",
   "execution_count": 2,
   "id": "c6879840",
   "metadata": {},
   "outputs": [],
   "source": [
    "import numpy as np"
   ]
  },
  {
   "cell_type": "code",
   "execution_count": 3,
   "id": "d630ed5c",
   "metadata": {},
   "outputs": [
    {
     "name": "stdout",
     "output_type": "stream",
     "text": [
      "[[30 99 72 66 56]\n",
      " [75 41 52 55 53]\n",
      " [12 18 28 35 50]\n",
      " [17 71 91  8 93]]\n"
     ]
    }
   ],
   "source": [
    "arr = np.random.randint(1,100,20).reshape(4,5)\n",
    "print(arr)"
   ]
  },
  {
   "cell_type": "code",
   "execution_count": 13,
   "id": "9b31a31c",
   "metadata": {},
   "outputs": [
    {
     "name": "stdout",
     "output_type": "stream",
     "text": [
      "[[False  True  True  True  True]\n",
      " [ True False  True  True  True]\n",
      " [False False False False False]\n",
      " [False  True  True False  True]]\n",
      "[99 72 66 56 75 52 55 53 71 91 93]\n",
      "11\n",
      "[99 75 55 53 71 91 93]\n"
     ]
    }
   ],
   "source": [
    "print(arr>50) #Boolean Array\n",
    "\n",
    "#Indexing using boolean arrays (filtering)\n",
    "print(arr[arr>50]) # Prints all the numbers greater than 50\n",
    "print(arr[arr>50].size) # 11 elements are greater than 50\n",
    "\n",
    "# Using multiple conditions\n",
    "print(arr[(arr>50) & (arr%2!=0)]) # using bitwise & on boolean values"
   ]
  },
  {
   "cell_type": "code",
   "execution_count": 14,
   "id": "c1a307e9",
   "metadata": {},
   "outputs": [
    {
     "name": "stdout",
     "output_type": "stream",
     "text": [
      "[[30  0 72 66 56]\n",
      " [ 0 41 52  0  0]\n",
      " [12 18 28 35 50]\n",
      " [17  0  0  8  0]]\n"
     ]
    }
   ],
   "source": [
    "# Setting numbers to 0 based on some condition\n",
    "arr[(arr>50) & (arr%2!=0)] =0\n",
    "print(arr)"
   ]
  }
 ],
 "metadata": {
  "kernelspec": {
   "display_name": "Python 3 (ipykernel)",
   "language": "python",
   "name": "python3"
  },
  "language_info": {
   "codemirror_mode": {
    "name": "ipython",
    "version": 3
   },
   "file_extension": ".py",
   "mimetype": "text/x-python",
   "name": "python",
   "nbconvert_exporter": "python",
   "pygments_lexer": "ipython3",
   "version": "3.10.4"
  }
 },
 "nbformat": 4,
 "nbformat_minor": 5
}
